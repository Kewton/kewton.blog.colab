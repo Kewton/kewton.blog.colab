{
  "nbformat": 4,
  "nbformat_minor": 0,
  "metadata": {
    "kernelspec": {
      "name": "python3",
      "display_name": "Python 3"
    },
    "language_info": {
      "name": "python"
    },
    "colab": {
      "name": "スクレイピング->Databaseサンプル.ipynb",
      "provenance": [],
      "collapsed_sections": [],
      "toc_visible": true,
      "include_colab_link": true
    },
    "widgets": {
      "application/vnd.jupyter.widget-state+json": {
        "0265eab34c854864b338a8df8eea2072": {
          "model_module": "@jupyter-widgets/controls",
          "model_name": "HBoxModel",
          "model_module_version": "1.5.0",
          "state": {
            "_dom_classes": [],
            "_model_module": "@jupyter-widgets/controls",
            "_model_module_version": "1.5.0",
            "_model_name": "HBoxModel",
            "_view_count": null,
            "_view_module": "@jupyter-widgets/controls",
            "_view_module_version": "1.5.0",
            "_view_name": "HBoxView",
            "box_style": "",
            "children": [
              "IPY_MODEL_a4a42a49ad61478babf884bd40613820",
              "IPY_MODEL_48dc9cfc8022408a81f0d5c55a019a61",
              "IPY_MODEL_ffa8b33bff334d2bb71718c5239e60d7"
            ],
            "layout": "IPY_MODEL_13ec62bc5d2542c59d1481fc1b779d11"
          }
        },
        "a4a42a49ad61478babf884bd40613820": {
          "model_module": "@jupyter-widgets/controls",
          "model_name": "HTMLModel",
          "model_module_version": "1.5.0",
          "state": {
            "_dom_classes": [],
            "_model_module": "@jupyter-widgets/controls",
            "_model_module_version": "1.5.0",
            "_model_name": "HTMLModel",
            "_view_count": null,
            "_view_module": "@jupyter-widgets/controls",
            "_view_module_version": "1.5.0",
            "_view_name": "HTMLView",
            "description": "",
            "description_tooltip": null,
            "layout": "IPY_MODEL_a6660c5981e849f49ed13552aa375482",
            "placeholder": "​",
            "style": "IPY_MODEL_e28d0ed95568473292b87518a6259a01",
            "value": "100%"
          }
        },
        "48dc9cfc8022408a81f0d5c55a019a61": {
          "model_module": "@jupyter-widgets/controls",
          "model_name": "FloatProgressModel",
          "model_module_version": "1.5.0",
          "state": {
            "_dom_classes": [],
            "_model_module": "@jupyter-widgets/controls",
            "_model_module_version": "1.5.0",
            "_model_name": "FloatProgressModel",
            "_view_count": null,
            "_view_module": "@jupyter-widgets/controls",
            "_view_module_version": "1.5.0",
            "_view_name": "ProgressView",
            "bar_style": "success",
            "description": "",
            "description_tooltip": null,
            "layout": "IPY_MODEL_51b10c7f7e394e63b49c4409df21d086",
            "max": 3,
            "min": 0,
            "orientation": "horizontal",
            "style": "IPY_MODEL_b3bad80cbeaa4116abf7abb125526dbf",
            "value": 3
          }
        },
        "ffa8b33bff334d2bb71718c5239e60d7": {
          "model_module": "@jupyter-widgets/controls",
          "model_name": "HTMLModel",
          "model_module_version": "1.5.0",
          "state": {
            "_dom_classes": [],
            "_model_module": "@jupyter-widgets/controls",
            "_model_module_version": "1.5.0",
            "_model_name": "HTMLModel",
            "_view_count": null,
            "_view_module": "@jupyter-widgets/controls",
            "_view_module_version": "1.5.0",
            "_view_name": "HTMLView",
            "description": "",
            "description_tooltip": null,
            "layout": "IPY_MODEL_9887de6206f841768e2d45daa71956ab",
            "placeholder": "​",
            "style": "IPY_MODEL_096bb3240fa040a4a74eca48a9b3ae44",
            "value": " 3/3 [00:11&lt;00:00,  4.00s/it]"
          }
        },
        "13ec62bc5d2542c59d1481fc1b779d11": {
          "model_module": "@jupyter-widgets/base",
          "model_name": "LayoutModel",
          "model_module_version": "1.2.0",
          "state": {
            "_model_module": "@jupyter-widgets/base",
            "_model_module_version": "1.2.0",
            "_model_name": "LayoutModel",
            "_view_count": null,
            "_view_module": "@jupyter-widgets/base",
            "_view_module_version": "1.2.0",
            "_view_name": "LayoutView",
            "align_content": null,
            "align_items": null,
            "align_self": null,
            "border": null,
            "bottom": null,
            "display": null,
            "flex": null,
            "flex_flow": null,
            "grid_area": null,
            "grid_auto_columns": null,
            "grid_auto_flow": null,
            "grid_auto_rows": null,
            "grid_column": null,
            "grid_gap": null,
            "grid_row": null,
            "grid_template_areas": null,
            "grid_template_columns": null,
            "grid_template_rows": null,
            "height": null,
            "justify_content": null,
            "justify_items": null,
            "left": null,
            "margin": null,
            "max_height": null,
            "max_width": null,
            "min_height": null,
            "min_width": null,
            "object_fit": null,
            "object_position": null,
            "order": null,
            "overflow": null,
            "overflow_x": null,
            "overflow_y": null,
            "padding": null,
            "right": null,
            "top": null,
            "visibility": null,
            "width": null
          }
        },
        "a6660c5981e849f49ed13552aa375482": {
          "model_module": "@jupyter-widgets/base",
          "model_name": "LayoutModel",
          "model_module_version": "1.2.0",
          "state": {
            "_model_module": "@jupyter-widgets/base",
            "_model_module_version": "1.2.0",
            "_model_name": "LayoutModel",
            "_view_count": null,
            "_view_module": "@jupyter-widgets/base",
            "_view_module_version": "1.2.0",
            "_view_name": "LayoutView",
            "align_content": null,
            "align_items": null,
            "align_self": null,
            "border": null,
            "bottom": null,
            "display": null,
            "flex": null,
            "flex_flow": null,
            "grid_area": null,
            "grid_auto_columns": null,
            "grid_auto_flow": null,
            "grid_auto_rows": null,
            "grid_column": null,
            "grid_gap": null,
            "grid_row": null,
            "grid_template_areas": null,
            "grid_template_columns": null,
            "grid_template_rows": null,
            "height": null,
            "justify_content": null,
            "justify_items": null,
            "left": null,
            "margin": null,
            "max_height": null,
            "max_width": null,
            "min_height": null,
            "min_width": null,
            "object_fit": null,
            "object_position": null,
            "order": null,
            "overflow": null,
            "overflow_x": null,
            "overflow_y": null,
            "padding": null,
            "right": null,
            "top": null,
            "visibility": null,
            "width": null
          }
        },
        "e28d0ed95568473292b87518a6259a01": {
          "model_module": "@jupyter-widgets/controls",
          "model_name": "DescriptionStyleModel",
          "model_module_version": "1.5.0",
          "state": {
            "_model_module": "@jupyter-widgets/controls",
            "_model_module_version": "1.5.0",
            "_model_name": "DescriptionStyleModel",
            "_view_count": null,
            "_view_module": "@jupyter-widgets/base",
            "_view_module_version": "1.2.0",
            "_view_name": "StyleView",
            "description_width": ""
          }
        },
        "51b10c7f7e394e63b49c4409df21d086": {
          "model_module": "@jupyter-widgets/base",
          "model_name": "LayoutModel",
          "model_module_version": "1.2.0",
          "state": {
            "_model_module": "@jupyter-widgets/base",
            "_model_module_version": "1.2.0",
            "_model_name": "LayoutModel",
            "_view_count": null,
            "_view_module": "@jupyter-widgets/base",
            "_view_module_version": "1.2.0",
            "_view_name": "LayoutView",
            "align_content": null,
            "align_items": null,
            "align_self": null,
            "border": null,
            "bottom": null,
            "display": null,
            "flex": null,
            "flex_flow": null,
            "grid_area": null,
            "grid_auto_columns": null,
            "grid_auto_flow": null,
            "grid_auto_rows": null,
            "grid_column": null,
            "grid_gap": null,
            "grid_row": null,
            "grid_template_areas": null,
            "grid_template_columns": null,
            "grid_template_rows": null,
            "height": null,
            "justify_content": null,
            "justify_items": null,
            "left": null,
            "margin": null,
            "max_height": null,
            "max_width": null,
            "min_height": null,
            "min_width": null,
            "object_fit": null,
            "object_position": null,
            "order": null,
            "overflow": null,
            "overflow_x": null,
            "overflow_y": null,
            "padding": null,
            "right": null,
            "top": null,
            "visibility": null,
            "width": null
          }
        },
        "b3bad80cbeaa4116abf7abb125526dbf": {
          "model_module": "@jupyter-widgets/controls",
          "model_name": "ProgressStyleModel",
          "model_module_version": "1.5.0",
          "state": {
            "_model_module": "@jupyter-widgets/controls",
            "_model_module_version": "1.5.0",
            "_model_name": "ProgressStyleModel",
            "_view_count": null,
            "_view_module": "@jupyter-widgets/base",
            "_view_module_version": "1.2.0",
            "_view_name": "StyleView",
            "bar_color": null,
            "description_width": ""
          }
        },
        "9887de6206f841768e2d45daa71956ab": {
          "model_module": "@jupyter-widgets/base",
          "model_name": "LayoutModel",
          "model_module_version": "1.2.0",
          "state": {
            "_model_module": "@jupyter-widgets/base",
            "_model_module_version": "1.2.0",
            "_model_name": "LayoutModel",
            "_view_count": null,
            "_view_module": "@jupyter-widgets/base",
            "_view_module_version": "1.2.0",
            "_view_name": "LayoutView",
            "align_content": null,
            "align_items": null,
            "align_self": null,
            "border": null,
            "bottom": null,
            "display": null,
            "flex": null,
            "flex_flow": null,
            "grid_area": null,
            "grid_auto_columns": null,
            "grid_auto_flow": null,
            "grid_auto_rows": null,
            "grid_column": null,
            "grid_gap": null,
            "grid_row": null,
            "grid_template_areas": null,
            "grid_template_columns": null,
            "grid_template_rows": null,
            "height": null,
            "justify_content": null,
            "justify_items": null,
            "left": null,
            "margin": null,
            "max_height": null,
            "max_width": null,
            "min_height": null,
            "min_width": null,
            "object_fit": null,
            "object_position": null,
            "order": null,
            "overflow": null,
            "overflow_x": null,
            "overflow_y": null,
            "padding": null,
            "right": null,
            "top": null,
            "visibility": null,
            "width": null
          }
        },
        "096bb3240fa040a4a74eca48a9b3ae44": {
          "model_module": "@jupyter-widgets/controls",
          "model_name": "DescriptionStyleModel",
          "model_module_version": "1.5.0",
          "state": {
            "_model_module": "@jupyter-widgets/controls",
            "_model_module_version": "1.5.0",
            "_model_name": "DescriptionStyleModel",
            "_view_count": null,
            "_view_module": "@jupyter-widgets/base",
            "_view_module_version": "1.2.0",
            "_view_name": "StyleView",
            "description_width": ""
          }
        }
      }
    }
  },
  "cells": [
    {
      "cell_type": "markdown",
      "metadata": {
        "id": "view-in-github",
        "colab_type": "text"
      },
      "source": [
        "<a href=\"https://colab.research.google.com/github/Kewton/kewton.blog.colab/blob/master/%E3%82%B9%E3%82%AF%E3%83%AC%E3%82%A4%E3%83%94%E3%83%B3%E3%82%B0_%3EDatabase%E3%82%B5%E3%83%B3%E3%83%97%E3%83%AB.ipynb\" target=\"_parent\"><img src=\"https://colab.research.google.com/assets/colab-badge.svg\" alt=\"Open In Colab\"/></a>"
      ]
    },
    {
      "cell_type": "markdown",
      "source": [
        "# ① スクレイピングして table 要素を dataframe に格納する"
      ],
      "metadata": {
        "id": "auGhDkWpDTTX"
      }
    },
    {
      "cell_type": "markdown",
      "source": [
        "## スクレイピング基底クラスの定義"
      ],
      "metadata": {
        "id": "zrgY4haXTbKP"
      }
    },
    {
      "cell_type": "code",
      "execution_count": 1,
      "source": [
        "from bs4 import BeautifulSoup\n",
        "import requests\n",
        "import itertools\n",
        "import time\n",
        "from tqdm import notebook as tqdm\n",
        "\n",
        "class BaseScraping:\n",
        "  '''\n",
        "  スクレイピングを実行する基底クラスです。\n",
        "  _url_list に格納された URL を実行して html ドキュメントを取得し\n",
        "  htmldoc2data を使用して必要なデータを取得します。\n",
        "\n",
        "  Note:\n",
        "    抽象メソッド speedbuffer と htmldoc2data を継承して使用してください。\n",
        "  '''\n",
        "\n",
        "  HEADERS = {\n",
        "    \"User-Agent\":\n",
        "    \"Mozilla/5.0 (Windows NT 10.0; Win64; x64) AppleWebKit/537.36 (KHTML, like Gecko) Chrome/70.0.3538.102 Safari/537.36 Edge/18.19582\"\n",
        "  }\n",
        "\n",
        "  def __init__(self, _url_list:list):\n",
        "    self._url_list = _url_list\n",
        "\n",
        "  def run(self):\n",
        "    results = {}\n",
        "    for _url in tqdm.tqdm(self._url_list):\n",
        "      print(_url)\n",
        "      \n",
        "      try:\n",
        "        _data = self.htmldoc2data(self.get_html_doc(_url))\n",
        "        results[_url] = _data\n",
        "      except Exception as e:\n",
        "        print(\"例外args:\", e.args)\n",
        "      \n",
        "      self.speedbuffer()\n",
        "    return results\n",
        "\n",
        "  def speedbuffer(self):\n",
        "    _sleeptime = 3\n",
        "    print(\"wait \" + str(_sleeptime) + \"[sec]\")\n",
        "    time.sleep(_sleeptime)\n",
        "    return\n",
        "\n",
        "  def get_html_doc(self, _url):\n",
        "    html_doc = requests.get(_url, headers=self.HEADERS, stream=True).content\n",
        "    return html_doc\n",
        "\n",
        "  def htmldoc2data(self, _html_doc):\n",
        "    '''\n",
        "    継承してください\n",
        "    '''\n",
        "    return _html_doc"
      ],
      "outputs": [],
      "metadata": {
        "id": "QSsSSMzxrYfB"
      }
    },
    {
      "cell_type": "markdown",
      "source": [
        "## table 要素を DtaFrame に格納するクラスの定義"
      ],
      "metadata": {
        "id": "Hxq1EiErivOT"
      }
    },
    {
      "cell_type": "code",
      "source": [
        "import re\n",
        "from bs4 import BeautifulSoup\n",
        "import pandas as pd\n",
        "\n",
        "\n",
        "class GetTableDataFromWeb(BaseScraping):\n",
        "  '''\n",
        "  スクレイピングのサンプルクラスです。\n",
        "  テーブルに格納されている値を取得します\n",
        "  '''\n",
        "\n",
        "  def __init__(self, _url_list:list, _css_selector):\n",
        "    '''\n",
        "    _css_selector：ターゲットとなるテーブル要素のcssセレクタを指定します\n",
        "    '''\n",
        "    super().__init__(_url_list)\n",
        "    self.__css_selector= _css_selector\n",
        "\n",
        "  def remove_blank_line_and_blank(self, _text):\n",
        "    # 空白行削除\n",
        "    text = _text.strip()\n",
        "    text = re.sub(r'\\n\\n','\\n',text)\n",
        "\n",
        "    # 間の空白を削除\n",
        "    text = re.sub(r'[ ]*','',text)\n",
        "    \n",
        "    return text\n",
        "\n",
        "  def htmldoc2data(self, _html_doc):\n",
        "    soup = BeautifulSoup(_html_doc, \"html.parser\")\n",
        "\n",
        "    # テーブルを取得\n",
        "    _table = soup.select_one(self.__css_selector)\n",
        "\n",
        "    # theadタグを探す\n",
        "    thead = _table.find('thead') \n",
        "\n",
        "    # tbodyタグを探す\n",
        "    tbody = _table.find('tbody') \n",
        "\n",
        "    if thead is not None and tbody is not None:\n",
        "      # パターン①：thead と tbody タグが存在する場合\n",
        "\n",
        "      # ヘッダーを取得\n",
        "      ths = thead.tr.find_all('th')\n",
        "\n",
        "      # DataFrame のヘッダーを作成\n",
        "      columns = []\n",
        "      for th in ths:\n",
        "        columns.append(th.text)\n",
        "      df = pd.DataFrame(columns=columns)\n",
        "\n",
        "      # body を取得\n",
        "      trs = tbody.find_all('tr')\n",
        "      for tr in trs:\n",
        "        # 各レコードからテキストを取得し、空白行や余計な空白を削除してDataFrame に格納して返却\n",
        "        tdlist = []\n",
        "        for td in tr.find_all('td'):\n",
        "          tdlist.append(self.remove_blank_line_and_blank(td.text))\n",
        "        sr = pd.Series(tdlist, index=df.columns)\n",
        "        df = df.append(sr, ignore_index=True)\n",
        "      return df\n",
        "    else:\n",
        "      # パターン②：thead と tbody タグのいずれかが存在しない場合\n",
        "\n",
        "      df = pd.DataFrame()\n",
        "      trs = _table.find_all('tr')\n",
        "\n",
        "      for tr in trs:\n",
        "        # 各レコードからテキストを取得し、空白行や余計な空白を削除してDataFrame に格納して返却\n",
        "        tdlist = []\n",
        "        for td in tr.find_all('th'):\n",
        "          tdlist.append(self.remove_blank_line_and_blank(td.text))\n",
        "\n",
        "        for td in tr.find_all('td'):\n",
        "          tdlist.append(self.remove_blank_line_and_blank(td.text))\n",
        "\n",
        "        if len(tdlist) > 0:\n",
        "          sr = pd.Series(tdlist)\n",
        "          df = df.append(sr, ignore_index=True)\n",
        "      return df\n",
        "  "
      ],
      "metadata": {
        "id": "4R55SIlZXWYx"
      },
      "execution_count": 2,
      "outputs": []
    },
    {
      "cell_type": "markdown",
      "source": [
        "## サンプルクラスの実行"
      ],
      "metadata": {
        "id": "Uhwc4K8si5va"
      }
    },
    {
      "cell_type": "code",
      "source": [
        "# フェブラリーステークスの結果\n",
        "_url_list =[\n",
        "  \"https://keiba.yahoo.co.jp/race/result/2205010811/\",\n",
        "  \"https://keiba.yahoo.co.jp/race/result/2105010811/\",\n",
        "  \"https://keiba.yahoo.co.jp/race/result/2005010811/\"\n",
        "]\n",
        "\n",
        "getTableDataFromWeb = GetTableDataFromWeb(_url_list, \"#raceScore\")\n",
        "\n",
        "results = getTableDataFromWeb.run()\n",
        "\n",
        "print(\"============================\")\n",
        "print(_url_list[0])\n",
        "results[_url_list[0]].head(5)"
      ],
      "metadata": {
        "id": "SMUY_qFZfpGu",
        "colab": {
          "base_uri": "https://localhost:8080/",
          "height": 385,
          "referenced_widgets": [
            "0265eab34c854864b338a8df8eea2072",
            "a4a42a49ad61478babf884bd40613820",
            "48dc9cfc8022408a81f0d5c55a019a61",
            "ffa8b33bff334d2bb71718c5239e60d7",
            "13ec62bc5d2542c59d1481fc1b779d11",
            "a6660c5981e849f49ed13552aa375482",
            "e28d0ed95568473292b87518a6259a01",
            "51b10c7f7e394e63b49c4409df21d086",
            "b3bad80cbeaa4116abf7abb125526dbf",
            "9887de6206f841768e2d45daa71956ab",
            "096bb3240fa040a4a74eca48a9b3ae44"
          ]
        },
        "outputId": "1d59885f-90d4-4c9c-f1ee-646f56b4e827"
      },
      "execution_count": 3,
      "outputs": [
        {
          "output_type": "display_data",
          "data": {
            "text/plain": [
              "  0%|          | 0/3 [00:00<?, ?it/s]"
            ],
            "application/vnd.jupyter.widget-view+json": {
              "version_major": 2,
              "version_minor": 0,
              "model_id": "0265eab34c854864b338a8df8eea2072"
            }
          },
          "metadata": {}
        },
        {
          "output_type": "stream",
          "name": "stdout",
          "text": [
            "https://keiba.yahoo.co.jp/race/result/2205010811/\n",
            "wait 3[sec]\n",
            "https://keiba.yahoo.co.jp/race/result/2105010811/\n",
            "wait 3[sec]\n",
            "https://keiba.yahoo.co.jp/race/result/2005010811/\n",
            "wait 3[sec]\n",
            "============================\n",
            "https://keiba.yahoo.co.jp/race/result/2205010811/\n"
          ]
        },
        {
          "output_type": "execute_result",
          "data": {
            "text/plain": [
              "  着順 枠番  馬番              馬名性齢⁄馬体重⁄B       タイム(着差) 通過順位上3Fタイム          騎手  \\\n",
              "0  1  3   6    カフェファラオ\\n牡5/526(+6)/        1.33.8  04-0334.3  福永祐一\\n57.0   \n",
              "1  2  8  15  テイエムサウスダン\\n牡5/546(-8)/  1.34.221/2馬身  01-0135.0  岩田康誠\\n57.0   \n",
              "2  3  6  11        ソダシ\\n牝4/476(+6)/   1.34.31/2馬身  02-0234.9  吉田隼人\\n55.0   \n",
              "3  4  7  13    ソリストサンダー\\n牡7/486(0)/      1.34.3クビ  05-0634.6  戸崎圭太\\n57.0   \n",
              "4  5  4   7   タイムフライヤー\\n牡7/482(+2)/  1.34.511/4馬身  10-1034.6  横山武史\\n57.0   \n",
              "\n",
              "    人気(オッズ)   調教師  \n",
              "0    2(5.1)   堀宣行  \n",
              "1    5(8.9)  飯田雄三  \n",
              "2    4(8.2)  須貝尚介  \n",
              "3      6(9)  高柳大輔  \n",
              "4  15(61.6)  橋口慎介  "
            ],
            "text/html": [
              "\n",
              "  <div id=\"df-574309fc-31d9-45d8-9659-a16172edc9bd\">\n",
              "    <div class=\"colab-df-container\">\n",
              "      <div>\n",
              "<style scoped>\n",
              "    .dataframe tbody tr th:only-of-type {\n",
              "        vertical-align: middle;\n",
              "    }\n",
              "\n",
              "    .dataframe tbody tr th {\n",
              "        vertical-align: top;\n",
              "    }\n",
              "\n",
              "    .dataframe thead th {\n",
              "        text-align: right;\n",
              "    }\n",
              "</style>\n",
              "<table border=\"1\" class=\"dataframe\">\n",
              "  <thead>\n",
              "    <tr style=\"text-align: right;\">\n",
              "      <th></th>\n",
              "      <th>着順</th>\n",
              "      <th>枠番</th>\n",
              "      <th>馬番</th>\n",
              "      <th>馬名性齢⁄馬体重⁄B</th>\n",
              "      <th>タイム(着差)</th>\n",
              "      <th>通過順位上3Fタイム</th>\n",
              "      <th>騎手</th>\n",
              "      <th>人気(オッズ)</th>\n",
              "      <th>調教師</th>\n",
              "    </tr>\n",
              "  </thead>\n",
              "  <tbody>\n",
              "    <tr>\n",
              "      <th>0</th>\n",
              "      <td>1</td>\n",
              "      <td>3</td>\n",
              "      <td>6</td>\n",
              "      <td>カフェファラオ\\n牡5/526(+6)/</td>\n",
              "      <td>1.33.8</td>\n",
              "      <td>04-0334.3</td>\n",
              "      <td>福永祐一\\n57.0</td>\n",
              "      <td>2(5.1)</td>\n",
              "      <td>堀宣行</td>\n",
              "    </tr>\n",
              "    <tr>\n",
              "      <th>1</th>\n",
              "      <td>2</td>\n",
              "      <td>8</td>\n",
              "      <td>15</td>\n",
              "      <td>テイエムサウスダン\\n牡5/546(-8)/</td>\n",
              "      <td>1.34.221/2馬身</td>\n",
              "      <td>01-0135.0</td>\n",
              "      <td>岩田康誠\\n57.0</td>\n",
              "      <td>5(8.9)</td>\n",
              "      <td>飯田雄三</td>\n",
              "    </tr>\n",
              "    <tr>\n",
              "      <th>2</th>\n",
              "      <td>3</td>\n",
              "      <td>6</td>\n",
              "      <td>11</td>\n",
              "      <td>ソダシ\\n牝4/476(+6)/</td>\n",
              "      <td>1.34.31/2馬身</td>\n",
              "      <td>02-0234.9</td>\n",
              "      <td>吉田隼人\\n55.0</td>\n",
              "      <td>4(8.2)</td>\n",
              "      <td>須貝尚介</td>\n",
              "    </tr>\n",
              "    <tr>\n",
              "      <th>3</th>\n",
              "      <td>4</td>\n",
              "      <td>7</td>\n",
              "      <td>13</td>\n",
              "      <td>ソリストサンダー\\n牡7/486(0)/</td>\n",
              "      <td>1.34.3クビ</td>\n",
              "      <td>05-0634.6</td>\n",
              "      <td>戸崎圭太\\n57.0</td>\n",
              "      <td>6(9)</td>\n",
              "      <td>高柳大輔</td>\n",
              "    </tr>\n",
              "    <tr>\n",
              "      <th>4</th>\n",
              "      <td>5</td>\n",
              "      <td>4</td>\n",
              "      <td>7</td>\n",
              "      <td>タイムフライヤー\\n牡7/482(+2)/</td>\n",
              "      <td>1.34.511/4馬身</td>\n",
              "      <td>10-1034.6</td>\n",
              "      <td>横山武史\\n57.0</td>\n",
              "      <td>15(61.6)</td>\n",
              "      <td>橋口慎介</td>\n",
              "    </tr>\n",
              "  </tbody>\n",
              "</table>\n",
              "</div>\n",
              "      <button class=\"colab-df-convert\" onclick=\"convertToInteractive('df-574309fc-31d9-45d8-9659-a16172edc9bd')\"\n",
              "              title=\"Convert this dataframe to an interactive table.\"\n",
              "              style=\"display:none;\">\n",
              "        \n",
              "  <svg xmlns=\"http://www.w3.org/2000/svg\" height=\"24px\"viewBox=\"0 0 24 24\"\n",
              "       width=\"24px\">\n",
              "    <path d=\"M0 0h24v24H0V0z\" fill=\"none\"/>\n",
              "    <path d=\"M18.56 5.44l.94 2.06.94-2.06 2.06-.94-2.06-.94-.94-2.06-.94 2.06-2.06.94zm-11 1L8.5 8.5l.94-2.06 2.06-.94-2.06-.94L8.5 2.5l-.94 2.06-2.06.94zm10 10l.94 2.06.94-2.06 2.06-.94-2.06-.94-.94-2.06-.94 2.06-2.06.94z\"/><path d=\"M17.41 7.96l-1.37-1.37c-.4-.4-.92-.59-1.43-.59-.52 0-1.04.2-1.43.59L10.3 9.45l-7.72 7.72c-.78.78-.78 2.05 0 2.83L4 21.41c.39.39.9.59 1.41.59.51 0 1.02-.2 1.41-.59l7.78-7.78 2.81-2.81c.8-.78.8-2.07 0-2.86zM5.41 20L4 18.59l7.72-7.72 1.47 1.35L5.41 20z\"/>\n",
              "  </svg>\n",
              "      </button>\n",
              "      \n",
              "  <style>\n",
              "    .colab-df-container {\n",
              "      display:flex;\n",
              "      flex-wrap:wrap;\n",
              "      gap: 12px;\n",
              "    }\n",
              "\n",
              "    .colab-df-convert {\n",
              "      background-color: #E8F0FE;\n",
              "      border: none;\n",
              "      border-radius: 50%;\n",
              "      cursor: pointer;\n",
              "      display: none;\n",
              "      fill: #1967D2;\n",
              "      height: 32px;\n",
              "      padding: 0 0 0 0;\n",
              "      width: 32px;\n",
              "    }\n",
              "\n",
              "    .colab-df-convert:hover {\n",
              "      background-color: #E2EBFA;\n",
              "      box-shadow: 0px 1px 2px rgba(60, 64, 67, 0.3), 0px 1px 3px 1px rgba(60, 64, 67, 0.15);\n",
              "      fill: #174EA6;\n",
              "    }\n",
              "\n",
              "    [theme=dark] .colab-df-convert {\n",
              "      background-color: #3B4455;\n",
              "      fill: #D2E3FC;\n",
              "    }\n",
              "\n",
              "    [theme=dark] .colab-df-convert:hover {\n",
              "      background-color: #434B5C;\n",
              "      box-shadow: 0px 1px 3px 1px rgba(0, 0, 0, 0.15);\n",
              "      filter: drop-shadow(0px 1px 2px rgba(0, 0, 0, 0.3));\n",
              "      fill: #FFFFFF;\n",
              "    }\n",
              "  </style>\n",
              "\n",
              "      <script>\n",
              "        const buttonEl =\n",
              "          document.querySelector('#df-574309fc-31d9-45d8-9659-a16172edc9bd button.colab-df-convert');\n",
              "        buttonEl.style.display =\n",
              "          google.colab.kernel.accessAllowed ? 'block' : 'none';\n",
              "\n",
              "        async function convertToInteractive(key) {\n",
              "          const element = document.querySelector('#df-574309fc-31d9-45d8-9659-a16172edc9bd');\n",
              "          const dataTable =\n",
              "            await google.colab.kernel.invokeFunction('convertToInteractive',\n",
              "                                                     [key], {});\n",
              "          if (!dataTable) return;\n",
              "\n",
              "          const docLinkHtml = 'Like what you see? Visit the ' +\n",
              "            '<a target=\"_blank\" href=https://colab.research.google.com/notebooks/data_table.ipynb>data table notebook</a>'\n",
              "            + ' to learn more about interactive tables.';\n",
              "          element.innerHTML = '';\n",
              "          dataTable['output_type'] = 'display_data';\n",
              "          await google.colab.output.renderOutput(dataTable, element);\n",
              "          const docLink = document.createElement('div');\n",
              "          docLink.innerHTML = docLinkHtml;\n",
              "          element.appendChild(docLink);\n",
              "        }\n",
              "      </script>\n",
              "    </div>\n",
              "  </div>\n",
              "  "
            ]
          },
          "metadata": {},
          "execution_count": 3
        }
      ]
    },
    {
      "cell_type": "markdown",
      "source": [
        "# ② ①の結果をDataBaseに登録する"
      ],
      "metadata": {
        "id": "cbu5lqm2ARhd"
      }
    },
    {
      "cell_type": "code",
      "source": [
        "# Googleドライブのマウント\n",
        "from google.colab import drive\n",
        "drive.mount('/content/drive')"
      ],
      "metadata": {
        "colab": {
          "base_uri": "https://localhost:8080/"
        },
        "id": "3Ik6IF-fART3",
        "outputId": "2562bb0b-003d-4ebe-d6dd-d066ec551c6a"
      },
      "execution_count": 4,
      "outputs": [
        {
          "output_type": "stream",
          "name": "stdout",
          "text": [
            "Drive already mounted at /content/drive; to attempt to forcibly remount, call drive.mount(\"/content/drive\", force_remount=True).\n"
          ]
        }
      ]
    },
    {
      "cell_type": "markdown",
      "source": [
        "## DBセッションの作成"
      ],
      "metadata": {
        "id": "9f9PN4JmTyIX"
      }
    },
    {
      "cell_type": "code",
      "source": [
        "_colab_dir = \"/content/drive/MyDrive/Colab Notebooks/\"\n",
        "db_path = 'sqlite:///' + _colab_dir + 'scraping.sqlite3.db'"
      ],
      "metadata": {
        "id": "rNOzZtLHAQL3"
      },
      "execution_count": 5,
      "outputs": []
    },
    {
      "cell_type": "code",
      "source": [
        "from sqlalchemy import create_engine\n",
        "from sqlalchemy.orm import sessionmaker\n",
        "engine = create_engine(db_path)\n",
        "SessionClass = sessionmaker(engine)  # セッションを作るクラスを作成\n",
        "session = SessionClass()"
      ],
      "metadata": {
        "id": "XmGrhf8aAj5Q"
      },
      "execution_count": 6,
      "outputs": []
    },
    {
      "cell_type": "markdown",
      "source": [
        "## データの蓄積"
      ],
      "metadata": {
        "id": "NCI0O26aPqzo"
      }
    },
    {
      "cell_type": "code",
      "source": [
        "for _url in _url_list:\n",
        "  df = results[_url]\n",
        "  df[\"URL\"] = _url\n",
        "  df.to_sql('load_data', engine, index=False, if_exists='append')"
      ],
      "metadata": {
        "id": "AKgDXQ_dAsjj"
      },
      "execution_count": 7,
      "outputs": []
    },
    {
      "cell_type": "markdown",
      "source": [
        "# ③ 蓄積したデータの取り出し"
      ],
      "metadata": {
        "id": "0HLHaHSzPvSe"
      }
    },
    {
      "cell_type": "code",
      "source": [
        "import pandas as pd\n",
        "# 1〜3着を取得\n",
        "_query = \"\"\"\\\n",
        "select * from load_data where 着順 in ('1','2','3')\n",
        "\"\"\"\n",
        "df2 = pd.read_sql(_query, session.bind)\n",
        "df2.head(60)"
      ],
      "metadata": {
        "colab": {
          "base_uri": "https://localhost:8080/",
          "height": 332
        },
        "id": "WS-ecXWVAsgv",
        "outputId": "b7ce21a0-6db7-4c8b-c330-ea74b60362f5"
      },
      "execution_count": 8,
      "outputs": [
        {
          "output_type": "execute_result",
          "data": {
            "text/plain": [
              "  着順 枠番  馬番              馬名性齢⁄馬体重⁄B       タイム(着差) 通過順位上3Fタイム            騎手  \\\n",
              "0  1  3   6    カフェファラオ\\n牡5/526(+6)/        1.33.8  04-0334.3    福永祐一\\n57.0   \n",
              "1  2  8  15  テイエムサウスダン\\n牡5/546(-8)/  1.34.221/2馬身  01-0135.0    岩田康誠\\n57.0   \n",
              "2  3  6  11        ソダシ\\n牝4/476(+6)/   1.34.31/2馬身  02-0234.9    吉田隼人\\n55.0   \n",
              "3  1  2   3   カフェファラオ\\n牡4/514(+10)/        1.34.4  03-0335.6  C.ルメール\\n57.0   \n",
              "4  2  5  10     エアスピネル\\n牡8/488(-4)/   1.34.53/4馬身  10-0935.2    鮫島克駿\\n57.0   \n",
              "5  3  4   7  ワンダーリーデル\\n牡8/534(+2)/B  1.34.813/4馬身  07-0435.7    横山典弘\\n57.0   \n",
              "6  1  6  12     モズアスコット\\n牡6/494(0)/        1.35.2  08-0835.4  C.ルメール\\n57.0   \n",
              "7  2  8  15   ケイティブレイブ\\n牡7/524(+4)/  1.35.621/2馬身  09-0935.6    長岡禎仁\\n57.0   \n",
              "8  3  5   9  サンライズノヴァ\\n牡6/534(+10)/  1.35.811/4馬身  12-1335.3    松山弘平\\n57.0   \n",
              "\n",
              "     人気(オッズ)   調教師                                                URL  \n",
              "0     2(5.1)   堀宣行  https://keiba.yahoo.co.jp/race/result/2205010811/  \n",
              "1     5(8.9)  飯田雄三  https://keiba.yahoo.co.jp/race/result/2205010811/  \n",
              "2     4(8.2)  須貝尚介  https://keiba.yahoo.co.jp/race/result/2205010811/  \n",
              "3     1(3.3)   堀宣行  https://keiba.yahoo.co.jp/race/result/2105010811/  \n",
              "4      9(28)  笹田和秀  https://keiba.yahoo.co.jp/race/result/2105010811/  \n",
              "5    8(19.3)  安田翔伍  https://keiba.yahoo.co.jp/race/result/2105010811/  \n",
              "6     1(2.8)  矢作芳人  https://keiba.yahoo.co.jp/race/result/2005010811/  \n",
              "7  16(142.6)  杉山晴紀  https://keiba.yahoo.co.jp/race/result/2005010811/  \n",
              "8     3(6.8)  音無秀孝  https://keiba.yahoo.co.jp/race/result/2005010811/  "
            ],
            "text/html": [
              "\n",
              "  <div id=\"df-9585c41e-7cd3-4d21-8c12-1bcd9faeac95\">\n",
              "    <div class=\"colab-df-container\">\n",
              "      <div>\n",
              "<style scoped>\n",
              "    .dataframe tbody tr th:only-of-type {\n",
              "        vertical-align: middle;\n",
              "    }\n",
              "\n",
              "    .dataframe tbody tr th {\n",
              "        vertical-align: top;\n",
              "    }\n",
              "\n",
              "    .dataframe thead th {\n",
              "        text-align: right;\n",
              "    }\n",
              "</style>\n",
              "<table border=\"1\" class=\"dataframe\">\n",
              "  <thead>\n",
              "    <tr style=\"text-align: right;\">\n",
              "      <th></th>\n",
              "      <th>着順</th>\n",
              "      <th>枠番</th>\n",
              "      <th>馬番</th>\n",
              "      <th>馬名性齢⁄馬体重⁄B</th>\n",
              "      <th>タイム(着差)</th>\n",
              "      <th>通過順位上3Fタイム</th>\n",
              "      <th>騎手</th>\n",
              "      <th>人気(オッズ)</th>\n",
              "      <th>調教師</th>\n",
              "      <th>URL</th>\n",
              "    </tr>\n",
              "  </thead>\n",
              "  <tbody>\n",
              "    <tr>\n",
              "      <th>0</th>\n",
              "      <td>1</td>\n",
              "      <td>3</td>\n",
              "      <td>6</td>\n",
              "      <td>カフェファラオ\\n牡5/526(+6)/</td>\n",
              "      <td>1.33.8</td>\n",
              "      <td>04-0334.3</td>\n",
              "      <td>福永祐一\\n57.0</td>\n",
              "      <td>2(5.1)</td>\n",
              "      <td>堀宣行</td>\n",
              "      <td>https://keiba.yahoo.co.jp/race/result/2205010811/</td>\n",
              "    </tr>\n",
              "    <tr>\n",
              "      <th>1</th>\n",
              "      <td>2</td>\n",
              "      <td>8</td>\n",
              "      <td>15</td>\n",
              "      <td>テイエムサウスダン\\n牡5/546(-8)/</td>\n",
              "      <td>1.34.221/2馬身</td>\n",
              "      <td>01-0135.0</td>\n",
              "      <td>岩田康誠\\n57.0</td>\n",
              "      <td>5(8.9)</td>\n",
              "      <td>飯田雄三</td>\n",
              "      <td>https://keiba.yahoo.co.jp/race/result/2205010811/</td>\n",
              "    </tr>\n",
              "    <tr>\n",
              "      <th>2</th>\n",
              "      <td>3</td>\n",
              "      <td>6</td>\n",
              "      <td>11</td>\n",
              "      <td>ソダシ\\n牝4/476(+6)/</td>\n",
              "      <td>1.34.31/2馬身</td>\n",
              "      <td>02-0234.9</td>\n",
              "      <td>吉田隼人\\n55.0</td>\n",
              "      <td>4(8.2)</td>\n",
              "      <td>須貝尚介</td>\n",
              "      <td>https://keiba.yahoo.co.jp/race/result/2205010811/</td>\n",
              "    </tr>\n",
              "    <tr>\n",
              "      <th>3</th>\n",
              "      <td>1</td>\n",
              "      <td>2</td>\n",
              "      <td>3</td>\n",
              "      <td>カフェファラオ\\n牡4/514(+10)/</td>\n",
              "      <td>1.34.4</td>\n",
              "      <td>03-0335.6</td>\n",
              "      <td>C.ルメール\\n57.0</td>\n",
              "      <td>1(3.3)</td>\n",
              "      <td>堀宣行</td>\n",
              "      <td>https://keiba.yahoo.co.jp/race/result/2105010811/</td>\n",
              "    </tr>\n",
              "    <tr>\n",
              "      <th>4</th>\n",
              "      <td>2</td>\n",
              "      <td>5</td>\n",
              "      <td>10</td>\n",
              "      <td>エアスピネル\\n牡8/488(-4)/</td>\n",
              "      <td>1.34.53/4馬身</td>\n",
              "      <td>10-0935.2</td>\n",
              "      <td>鮫島克駿\\n57.0</td>\n",
              "      <td>9(28)</td>\n",
              "      <td>笹田和秀</td>\n",
              "      <td>https://keiba.yahoo.co.jp/race/result/2105010811/</td>\n",
              "    </tr>\n",
              "    <tr>\n",
              "      <th>5</th>\n",
              "      <td>3</td>\n",
              "      <td>4</td>\n",
              "      <td>7</td>\n",
              "      <td>ワンダーリーデル\\n牡8/534(+2)/B</td>\n",
              "      <td>1.34.813/4馬身</td>\n",
              "      <td>07-0435.7</td>\n",
              "      <td>横山典弘\\n57.0</td>\n",
              "      <td>8(19.3)</td>\n",
              "      <td>安田翔伍</td>\n",
              "      <td>https://keiba.yahoo.co.jp/race/result/2105010811/</td>\n",
              "    </tr>\n",
              "    <tr>\n",
              "      <th>6</th>\n",
              "      <td>1</td>\n",
              "      <td>6</td>\n",
              "      <td>12</td>\n",
              "      <td>モズアスコット\\n牡6/494(0)/</td>\n",
              "      <td>1.35.2</td>\n",
              "      <td>08-0835.4</td>\n",
              "      <td>C.ルメール\\n57.0</td>\n",
              "      <td>1(2.8)</td>\n",
              "      <td>矢作芳人</td>\n",
              "      <td>https://keiba.yahoo.co.jp/race/result/2005010811/</td>\n",
              "    </tr>\n",
              "    <tr>\n",
              "      <th>7</th>\n",
              "      <td>2</td>\n",
              "      <td>8</td>\n",
              "      <td>15</td>\n",
              "      <td>ケイティブレイブ\\n牡7/524(+4)/</td>\n",
              "      <td>1.35.621/2馬身</td>\n",
              "      <td>09-0935.6</td>\n",
              "      <td>長岡禎仁\\n57.0</td>\n",
              "      <td>16(142.6)</td>\n",
              "      <td>杉山晴紀</td>\n",
              "      <td>https://keiba.yahoo.co.jp/race/result/2005010811/</td>\n",
              "    </tr>\n",
              "    <tr>\n",
              "      <th>8</th>\n",
              "      <td>3</td>\n",
              "      <td>5</td>\n",
              "      <td>9</td>\n",
              "      <td>サンライズノヴァ\\n牡6/534(+10)/</td>\n",
              "      <td>1.35.811/4馬身</td>\n",
              "      <td>12-1335.3</td>\n",
              "      <td>松山弘平\\n57.0</td>\n",
              "      <td>3(6.8)</td>\n",
              "      <td>音無秀孝</td>\n",
              "      <td>https://keiba.yahoo.co.jp/race/result/2005010811/</td>\n",
              "    </tr>\n",
              "  </tbody>\n",
              "</table>\n",
              "</div>\n",
              "      <button class=\"colab-df-convert\" onclick=\"convertToInteractive('df-9585c41e-7cd3-4d21-8c12-1bcd9faeac95')\"\n",
              "              title=\"Convert this dataframe to an interactive table.\"\n",
              "              style=\"display:none;\">\n",
              "        \n",
              "  <svg xmlns=\"http://www.w3.org/2000/svg\" height=\"24px\"viewBox=\"0 0 24 24\"\n",
              "       width=\"24px\">\n",
              "    <path d=\"M0 0h24v24H0V0z\" fill=\"none\"/>\n",
              "    <path d=\"M18.56 5.44l.94 2.06.94-2.06 2.06-.94-2.06-.94-.94-2.06-.94 2.06-2.06.94zm-11 1L8.5 8.5l.94-2.06 2.06-.94-2.06-.94L8.5 2.5l-.94 2.06-2.06.94zm10 10l.94 2.06.94-2.06 2.06-.94-2.06-.94-.94-2.06-.94 2.06-2.06.94z\"/><path d=\"M17.41 7.96l-1.37-1.37c-.4-.4-.92-.59-1.43-.59-.52 0-1.04.2-1.43.59L10.3 9.45l-7.72 7.72c-.78.78-.78 2.05 0 2.83L4 21.41c.39.39.9.59 1.41.59.51 0 1.02-.2 1.41-.59l7.78-7.78 2.81-2.81c.8-.78.8-2.07 0-2.86zM5.41 20L4 18.59l7.72-7.72 1.47 1.35L5.41 20z\"/>\n",
              "  </svg>\n",
              "      </button>\n",
              "      \n",
              "  <style>\n",
              "    .colab-df-container {\n",
              "      display:flex;\n",
              "      flex-wrap:wrap;\n",
              "      gap: 12px;\n",
              "    }\n",
              "\n",
              "    .colab-df-convert {\n",
              "      background-color: #E8F0FE;\n",
              "      border: none;\n",
              "      border-radius: 50%;\n",
              "      cursor: pointer;\n",
              "      display: none;\n",
              "      fill: #1967D2;\n",
              "      height: 32px;\n",
              "      padding: 0 0 0 0;\n",
              "      width: 32px;\n",
              "    }\n",
              "\n",
              "    .colab-df-convert:hover {\n",
              "      background-color: #E2EBFA;\n",
              "      box-shadow: 0px 1px 2px rgba(60, 64, 67, 0.3), 0px 1px 3px 1px rgba(60, 64, 67, 0.15);\n",
              "      fill: #174EA6;\n",
              "    }\n",
              "\n",
              "    [theme=dark] .colab-df-convert {\n",
              "      background-color: #3B4455;\n",
              "      fill: #D2E3FC;\n",
              "    }\n",
              "\n",
              "    [theme=dark] .colab-df-convert:hover {\n",
              "      background-color: #434B5C;\n",
              "      box-shadow: 0px 1px 3px 1px rgba(0, 0, 0, 0.15);\n",
              "      filter: drop-shadow(0px 1px 2px rgba(0, 0, 0, 0.3));\n",
              "      fill: #FFFFFF;\n",
              "    }\n",
              "  </style>\n",
              "\n",
              "      <script>\n",
              "        const buttonEl =\n",
              "          document.querySelector('#df-9585c41e-7cd3-4d21-8c12-1bcd9faeac95 button.colab-df-convert');\n",
              "        buttonEl.style.display =\n",
              "          google.colab.kernel.accessAllowed ? 'block' : 'none';\n",
              "\n",
              "        async function convertToInteractive(key) {\n",
              "          const element = document.querySelector('#df-9585c41e-7cd3-4d21-8c12-1bcd9faeac95');\n",
              "          const dataTable =\n",
              "            await google.colab.kernel.invokeFunction('convertToInteractive',\n",
              "                                                     [key], {});\n",
              "          if (!dataTable) return;\n",
              "\n",
              "          const docLinkHtml = 'Like what you see? Visit the ' +\n",
              "            '<a target=\"_blank\" href=https://colab.research.google.com/notebooks/data_table.ipynb>data table notebook</a>'\n",
              "            + ' to learn more about interactive tables.';\n",
              "          element.innerHTML = '';\n",
              "          dataTable['output_type'] = 'display_data';\n",
              "          await google.colab.output.renderOutput(dataTable, element);\n",
              "          const docLink = document.createElement('div');\n",
              "          docLink.innerHTML = docLinkHtml;\n",
              "          element.appendChild(docLink);\n",
              "        }\n",
              "      </script>\n",
              "    </div>\n",
              "  </div>\n",
              "  "
            ]
          },
          "metadata": {},
          "execution_count": 8
        }
      ]
    },
    {
      "cell_type": "markdown",
      "source": [
        "# 【ご参考】データ登録後 index(SQLite の場合) を追加する"
      ],
      "metadata": {
        "id": "H6Bqy76sRNBV"
      }
    },
    {
      "cell_type": "code",
      "source": [
        "import time\n",
        "import sqlite3\n",
        "\n",
        "class StopWatch:\n",
        "    '''\n",
        "    処理時間計測\n",
        "    '''\n",
        "    def sw_start(self):\n",
        "      self.__starttime = time.time()\n",
        "      return\n",
        "    \n",
        "    def sw_stop(self):\n",
        "      print(\"■処理時間：\")\n",
        "      print(f\"{time.time() - self.__starttime}[sec]\")\n",
        "      return \n",
        "\n",
        "class Sqlite3Access:\n",
        "  # 必要に応じて変更して下さい\n",
        "  __colab_dir = \"/content/drive/MyDrive/Colab Notebooks/\"\n",
        "  \n",
        "  def __init__(self, _db_name):\n",
        "    self.db_name = _db_name\n",
        "    self.sw = StopWatch()\n",
        "    return\n",
        "  \n",
        "  def _connect(self):\n",
        "    '''\n",
        "    すでに存在すればコネクションをはる\n",
        "    存在しなければ新たに作成する\n",
        "    '''\n",
        "    self.conn = sqlite3.connect(self.__colab_dir + self.db_name + \".db\")\n",
        "    return\n",
        "\n",
        "  def _getCursor(self):\n",
        "    '''\n",
        "    sqliteを操作するためのカーソルを取得する\n",
        "    '''\n",
        "    self._connect()\n",
        "    return self.conn.cursor()\n",
        "\n",
        "  def select(self, _sql):\n",
        "    '''\n",
        "    select\n",
        "    '''\n",
        "    # SQLiteを操作するためのカーソルを作成\n",
        "    cur = self._getCursor()\n",
        "    try:\n",
        "      # データ検索\n",
        "      cur.execute(_sql)\n",
        "    except Exception as e:\n",
        "      print(\"例外args:\", e.args)\n",
        "      print(\"コネクションをクローズしました\")\n",
        "      self.conn.close()\n",
        "      return\n",
        "    \n",
        "    # 大量データの取り出しを考慮してカーソルのままretrunする\n",
        "    return cur\n",
        "\n",
        "  def execute(self, _sql) -> bool:\n",
        "    '''\n",
        "    create\n",
        "    insert\n",
        "    updaet\n",
        "    delete\n",
        "    '''\n",
        "    # SQLiteを操作するためのカーソルを作成\n",
        "    cur = self._getCursor()\n",
        "\n",
        "    try:\n",
        "      self.sw.sw_start()\n",
        "      \n",
        "      # データ登録\n",
        "      cur.execute(_sql)\n",
        "\n",
        "      # コミットしないと登録が反映されない\n",
        "      self.conn.commit()\n",
        "    except Exception as e:\n",
        "      self.sw.sw_stop()\n",
        "      print(\"例外args:\", e.args)\n",
        "      print(\"コネクションをクローズしました\")\n",
        "      self.conn.close()\n",
        "      return False\n",
        "    \n",
        "    self.sw.sw_stop()\n",
        "    self.conn.close()\n",
        "    return True \n",
        "\n",
        "  def executemany(self, _list, _sql):\n",
        "    '''\n",
        "    create\n",
        "    insert\n",
        "    updaet\n",
        "    delete\n",
        "    '''\n",
        "    # SQLiteを操作するためのカーソルを作成\n",
        "    cur = self._getCursor()\n",
        "\n",
        "    try:\n",
        "      self.sw.sw_start()\n",
        "      \n",
        "      # 複数データ登録\n",
        "      cur.executemany(_sql, _list)\n",
        "\n",
        "      # コミットしないと登録が反映されない\n",
        "      self.conn.commit()\n",
        "    except Exception as e:\n",
        "      self.sw.sw_stop()\n",
        "      print(\"例外args:\", e.args)\n",
        "      print(\"コネクションをクローズしました\")\n",
        "      self.conn.close()\n",
        "      return False\n",
        "    self.sw.sw_stop()\n",
        "    self.conn.close()\n",
        "    return True\n",
        "  \n",
        "  def printSelect(self, _sql):\n",
        "    '''\n",
        "    select結果をコンソールに出力する\n",
        "    '''\n",
        "    print(\"■実行SQL：\")\n",
        "    print(_sql)\n",
        "    print(\"■実行結果：\")\n",
        "    self.sw.sw_start()\n",
        "    for row in self.select(_sql):\n",
        "        print(row)\n",
        "    self.sw.sw_stop()"
      ],
      "metadata": {
        "id": "03ZKDOdOQ3fp"
      },
      "execution_count": 9,
      "outputs": []
    },
    {
      "cell_type": "code",
      "source": [
        "scrapingdb = Sqlite3Access(\"scraping.sqlite3\")\n",
        "scrapingdb.db_name"
      ],
      "metadata": {
        "colab": {
          "base_uri": "https://localhost:8080/",
          "height": 35
        },
        "id": "2A6roR5SRSU_",
        "outputId": "ac7bb4ac-01db-4c4d-d6ba-a03aa528fdbe"
      },
      "execution_count": 10,
      "outputs": [
        {
          "output_type": "execute_result",
          "data": {
            "text/plain": [
              "'scraping.sqlite3'"
            ],
            "application/vnd.google.colaboratory.intrinsic+json": {
              "type": "string"
            }
          },
          "metadata": {},
          "execution_count": 10
        }
      ]
    },
    {
      "cell_type": "code",
      "source": [
        "# select文を作成\n",
        "_sql =  \"\"\"\\\n",
        "select * from sqlite_master;\n",
        "\"\"\"\n",
        "\n",
        "# select分を実行\n",
        "scrapingdb.printSelect(_sql)"
      ],
      "metadata": {
        "colab": {
          "base_uri": "https://localhost:8080/"
        },
        "id": "-QefjMOxUwse",
        "outputId": "84b00811-b57e-4ad7-8cd3-6dfe93004397"
      },
      "execution_count": 11,
      "outputs": [
        {
          "output_type": "stream",
          "name": "stdout",
          "text": [
            "■実行SQL：\n",
            "select * from sqlite_master;\n",
            "\n",
            "■実行結果：\n",
            "('table', 'load_data', 'load_data', 2, 'CREATE TABLE load_data (\\n\\t\"着順\" TEXT, \\n\\t\"枠番\" TEXT, \\n\\t\"馬番\" TEXT, \\n\\t\"馬名性齢⁄馬体重⁄B\" TEXT, \\n\\t\"タイム(着差)\" TEXT, \\n\\t\"通過順位上3Fタイム\" TEXT, \\n\\t\"騎手\" TEXT, \\n\\t\"人気(オッズ)\" TEXT, \\n\\t\"調教師\" TEXT, \\n\\t\"URL\" TEXT\\n)')\n",
            "■処理時間：\n",
            "0.005756378173828125[sec]\n"
          ]
        }
      ]
    },
    {
      "cell_type": "markdown",
      "source": [
        "## index 登録"
      ],
      "metadata": {
        "id": "_87v6PCVT-He"
      }
    },
    {
      "cell_type": "code",
      "source": [
        "# create文を作成\n",
        "_sql =  \"\"\"\\\n",
        "CREATE INDEX ix_001 ON load_data (URL, 着順);\n",
        "\"\"\"\n",
        "\n",
        "# create文を実行\n",
        "scrapingdb.execute(_sql)"
      ],
      "metadata": {
        "colab": {
          "base_uri": "https://localhost:8080/"
        },
        "id": "W7KDtIgnRY30",
        "outputId": "68a12bc0-15ae-4866-e3ae-0c292f2cbfcc"
      },
      "execution_count": 12,
      "outputs": [
        {
          "output_type": "stream",
          "name": "stdout",
          "text": [
            "■処理時間：\n",
            "0.016704082489013672[sec]\n"
          ]
        },
        {
          "output_type": "execute_result",
          "data": {
            "text/plain": [
              "True"
            ]
          },
          "metadata": {},
          "execution_count": 12
        }
      ]
    },
    {
      "cell_type": "markdown",
      "source": [
        "## index 登録結果の確認"
      ],
      "metadata": {
        "id": "DY0QJ-11UP3K"
      }
    },
    {
      "cell_type": "code",
      "source": [
        "# select文を作成\n",
        "_sql =  \"\"\"\\\n",
        "select * from sqlite_master;\n",
        "\"\"\"\n",
        "\n",
        "# select分を実行\n",
        "scrapingdb.printSelect(_sql)"
      ],
      "metadata": {
        "colab": {
          "base_uri": "https://localhost:8080/"
        },
        "id": "z7B8-0TpRvDz",
        "outputId": "7a160c54-4be9-4a0f-a878-d58fbc27a0f8"
      },
      "execution_count": 13,
      "outputs": [
        {
          "output_type": "stream",
          "name": "stdout",
          "text": [
            "■実行SQL：\n",
            "select * from sqlite_master;\n",
            "\n",
            "■実行結果：\n",
            "('table', 'load_data', 'load_data', 2, 'CREATE TABLE load_data (\\n\\t\"着順\" TEXT, \\n\\t\"枠番\" TEXT, \\n\\t\"馬番\" TEXT, \\n\\t\"馬名性齢⁄馬体重⁄B\" TEXT, \\n\\t\"タイム(着差)\" TEXT, \\n\\t\"通過順位上3Fタイム\" TEXT, \\n\\t\"騎手\" TEXT, \\n\\t\"人気(オッズ)\" TEXT, \\n\\t\"調教師\" TEXT, \\n\\t\"URL\" TEXT\\n)')\n",
            "('index', 'ix_001', 'load_data', 5, 'CREATE INDEX ix_001 ON load_data (URL, 着順)')\n",
            "■処理時間：\n",
            "0.004522800445556641[sec]\n"
          ]
        }
      ]
    },
    {
      "cell_type": "code",
      "source": [
        ""
      ],
      "metadata": {
        "id": "BrKOamneSFSr"
      },
      "execution_count": 13,
      "outputs": []
    }
  ]
}