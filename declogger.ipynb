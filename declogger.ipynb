{
  "nbformat": 4,
  "nbformat_minor": 0,
  "metadata": {
    "colab": {
      "name": "declogger.ipynb",
      "provenance": [],
      "collapsed_sections": [],
      "authorship_tag": "ABX9TyM2O9jqA+7lTCQGoG/LUiYh",
      "include_colab_link": true
    },
    "kernelspec": {
      "name": "python3",
      "display_name": "Python 3"
    },
    "language_info": {
      "name": "python"
    }
  },
  "cells": [
    {
      "cell_type": "markdown",
      "metadata": {
        "id": "view-in-github",
        "colab_type": "text"
      },
      "source": [
        "<a href=\"https://colab.research.google.com/github/Kewton/kewton.blog.colab/blob/master/declogger.ipynb\" target=\"_parent\"><img src=\"https://colab.research.google.com/assets/colab-badge.svg\" alt=\"Open In Colab\"/></a>"
      ]
    },
    {
      "cell_type": "code",
      "execution_count": 1,
      "metadata": {
        "id": "HDaH-zHic3Bf"
      },
      "outputs": [],
      "source": [
        "import os\n",
        "_logconfpath = './log.conf'\n",
        "\n",
        "logconfig = \"\"\"\n",
        "[loggers]\n",
        "keys=root\n",
        "\n",
        "[handlers]\n",
        "keys=rotatinghandler, timedrotatinghandler\n",
        "\n",
        "[formatters]\n",
        "keys=_formatter\n",
        "\n",
        "[logger_root]\n",
        "level=DEBUG\n",
        "handlers=rotatinghandler, timedrotatinghandler\n",
        "\n",
        "[handler_rotatinghandler]\n",
        "class=handlers.RotatingFileHandler\n",
        "level=DEBUG\n",
        "formatter=_formatter\n",
        "args=('./app.log', 'a', 1024*1024, 5, 'utf-8')\n",
        "\n",
        "[handler_timedrotatinghandler]\n",
        "class=handlers.TimedRotatingFileHandler\n",
        "level=ERROR\n",
        "formatter=_formatter\n",
        "args=('./rotation.log', 'S', 1024*1024, 5, 'utf-8')\n",
        "\n",
        "\n",
        "[formatter__formatter]\n",
        "format=[%(process)d-%(thread)d]-%(asctime)s-[%(filename)s:%(lineno)d]-%(levelname)s-%(message)s\n",
        "\"\"\"\n",
        "\n",
        "f = open(_logconfpath, 'w')\n",
        "f.write(logconfig)\n",
        "f.close()"
      ]
    },
    {
      "cell_type": "code",
      "source": [
        "import logging.config\n",
        "import datetime\n",
        "import time\n",
        "import inspect\n",
        "\n",
        "def getlogger():\n",
        "    return logging.getLogger(__name__)\n",
        "\n",
        "def setfileConfig(_path):\n",
        "    logging.config.fileConfig(fname=_path)\n",
        "\n",
        "def declogger(func):\n",
        "    curframe = inspect.currentframe()\n",
        "    calframe = inspect.getouterframes(curframe, 2)\n",
        "    fn = calframe[1][1].split(\"/\")\n",
        "    filename = fn[len(fn) - 1]\n",
        "    modulename = fn[len(fn) - 2]\n",
        "    lineno = calframe[1][2]\n",
        "    code_context = calframe[1][4]\n",
        "    funcname = code_context[len(code_context) - 1]\n",
        "    defaultmessage = \"[\" + modulename + \".\" + filename + \":\" + str(lineno) + \"][\" + funcname.strip() + \"]:\"\n",
        "\n",
        "    def wrapper(*args, **kwargs):\n",
        "        sw = StopWatch()\n",
        "        sw.sw_start()\n",
        "        _logger = getlogger()\n",
        "        _logger.debug(defaultmessage + \"start:-----\")\n",
        "        kekka = func(*args, **kwargs)\n",
        "        syorijikan = f\"***** 処理時間：{sw.sw_stop()} ***\"\n",
        "        _logger.debug(defaultmessage + \"-end-:\" + syorijikan)\n",
        "        return kekka\n",
        "    wrapper.__name__ = func.__name__\n",
        "    return wrapper\n",
        "\n",
        "def edtmessage(message):\n",
        "    calframe = inspect.getouterframes(inspect.currentframe(), 2)\n",
        "    fn = calframe[2][1].split(\"/\")\n",
        "    filename = fn[len(fn) - 1]\n",
        "    modulename = fn[len(fn) - 2]\n",
        "    lineno = calframe[1][2]\n",
        "    return \"[\" + modulename + \".\" + filename + \":\" + str(lineno) + \"][\" + calframe[1][3] + \"]:\" + str(message)\n",
        "\n",
        "def writedebuglog(message):\n",
        "  getlogger().debug(edtmessage(message))\n",
        "  return\n",
        "\n",
        "def writeinfolog(message):\n",
        "  getlogger().info(edtmessage(message))\n",
        "  return\n",
        "\n",
        "def writeerrorlog(message):\n",
        "  getlogger().error(edtmessage(message))\n",
        "  return\n",
        "\n",
        "class StopWatch:\n",
        "    def sw_start(self):\n",
        "        self.__starttime = time.time()\n",
        "        return\n",
        "    \n",
        "    def sw_stop(self):\n",
        "        return time.time() - self.__starttime\n"
      ],
      "metadata": {
        "id": "MT5SS_sydCwL"
      },
      "execution_count": 2,
      "outputs": []
    },
    {
      "cell_type": "code",
      "source": [
        "@declogger\n",
        "def test():\n",
        "  i = 0\n",
        "  for j in range(0,10):\n",
        "    writedebuglog(f\"{j}回目の処理を開始します\")\n",
        "    writeinfolog(f\"{j}回目の処理を開始します\")\n",
        "    writeerrorlog(f\"{j}回目の処理を開始します\")\n",
        "    i = i + j"
      ],
      "metadata": {
        "id": "602iwV91do5s"
      },
      "execution_count": 3,
      "outputs": []
    },
    {
      "cell_type": "code",
      "source": [
        "setfileConfig(_logconfpath)\n",
        "test()"
      ],
      "metadata": {
        "id": "uqWe0sludyxU"
      },
      "execution_count": 4,
      "outputs": []
    }
  ]
}